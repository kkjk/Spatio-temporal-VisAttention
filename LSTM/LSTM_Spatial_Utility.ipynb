{
 "cells": [
  {
   "cell_type": "code",
   "execution_count": 3,
   "metadata": {},
   "outputs": [
    {
     "name": "stdout",
     "output_type": "stream",
     "text": [
      "WARNING: pip is being invoked by an old script wrapper. This will fail in a future version of pip.\n",
      "Please see https://github.com/pypa/pip/issues/5599 for advice on fixing the underlying issue.\n",
      "To avoid this problem you can invoke Python with '-m pip' instead of running pip directly.\n",
      "Collecting tqdm\n",
      "  Downloading tqdm-4.43.0-py2.py3-none-any.whl (59 kB)\n",
      "\u001b[K     |████████████████████████████████| 59 kB 2.9 MB/s eta 0:00:011\n",
      "\u001b[?25hInstalling collected packages: tqdm\n",
      "\u001b[33m  WARNING: The script tqdm is installed in '/home/kkjk/.local/bin' which is not on PATH.\n",
      "  Consider adding this directory to PATH or, if you prefer to suppress this warning, use --no-warn-script-location.\u001b[0m\n",
      "Successfully installed tqdm-4.43.0\n"
     ]
    }
   ],
   "source": [
    "!pip install tqdm --user\n"
   ]
  },
  {
   "cell_type": "code",
   "execution_count": 4,
   "metadata": {
    "colab": {},
    "colab_type": "code",
    "id": "cqztSSydx8C7"
   },
   "outputs": [],
   "source": [
    "############ Generate Images ###################\n",
    "import math\n",
    "import numpy as np\n",
    "import cv2\n",
    "import cv2, os\n",
    "import matplotlib.pyplot as plt\n",
    "from tqdm import tqdm\n",
    "import fnmatch"
   ]
  },
  {
   "cell_type": "code",
   "execution_count": 5,
   "metadata": {
    "colab": {},
    "colab_type": "code",
    "id": "njDh8CwRAdHp"
   },
   "outputs": [],
   "source": [
    "######## SPATIAL: read prediciton, ground truth and  mouse (x,y) from CSV ################\n",
    "\n",
    "pred_x_data = np.genfromtxt('/home/kkjk/LSTM/Co-ordinates_mouse_cursor_GT_prediction/prediction_XX_26180.csv').astype(np.int64)\n",
    "pred_y_data = np.genfromtxt('/home/kkjk/LSTM/Co-ordinates_mouse_cursor_GT_prediction/prediction_YY_26180.csv').astype(np.int64)\n",
    "\n",
    "gt_x_data = np.genfromtxt('/home/kkjk/LSTM/Co-ordinates_mouse_cursor_GT_prediction/GT_Fix_XX_26180.csv').astype(np.int64)\n",
    "gt_y_data = np.genfromtxt('/home/kkjk/LSTM/Co-ordinates_mouse_cursor_GT_prediction/GT_Fix_YY_26180.csv').astype(np.int64)\n",
    "\n",
    "mouse_x_data = np.genfromtxt('/home/kkjk/LSTM/Co-ordinates_mouse_cursor_GT_prediction/mouse_XX_26180.csv').astype(np.int64)\n",
    "mouse_y_data = np.genfromtxt('/home/kkjk/LSTM/Co-ordinates_mouse_cursor_GT_prediction/mouse_YY_26180.csv').astype(np.int64)\n",
    "\n",
    "\n"
   ]
  },
  {
   "cell_type": "code",
   "execution_count": 6,
   "metadata": {
    "colab": {},
    "colab_type": "code",
    "id": "kbCtyZkNAczN"
   },
   "outputs": [],
   "source": [
    "################## SPATIAL ############################## \n",
    "\n",
    "def GenerateImages(Input, Imagename):\n",
    "    \"\"\" \n",
    "    This function generates binary map/image of size 1200*1920 out of (x,y)co-ordinates\n",
    "    \n",
    "    Parameters:\n",
    "        Input(stacked array of (x,y)): join (x,y) of prediction or ground truth or mouse\n",
    "        Imagename(string): Name of the image to be created and saved\n",
    "    \n",
    "    Returns:\n",
    "        path of created image. changes for spatial and temporal data. \n",
    "    \"\"\"\n",
    "    Op_Image = np.zeros((1200, 1920), dtype=np.int64)\n",
    "\n",
    "    for x, y in zip(Input[0], Input[1]):\n",
    "        # print('x,y', x, y)\n",
    "        Op_Image[y][x] = 255\n",
    "        op_map = np.float32(Op_Image)\n",
    "    NewImage = '/home/kkjk/LSTM/Images_to_Evaluate/Spatial_Images/'+Imagename\n",
    "    cv2.imwrite(NewImage, op_map)\n",
    "    return NewImage\n"
   ]
  },
  {
   "cell_type": "code",
   "execution_count": 7,
   "metadata": {
    "colab": {},
    "colab_type": "code",
    "id": "0ORTh_GRAdU0"
   },
   "outputs": [
    {
     "name": "stdout",
     "output_type": "stream",
     "text": [
      "2\n",
      "2 spatial images generated\n"
     ]
    }
   ],
   "source": [
    "## 3 test users with total of 39 interfaces, so 39*340 = 13260 (x,y) points\n",
    "## UI/task split ups: 340 (x,y) points per task\n",
    "\n",
    "k = 1\n",
    "\n",
    "for i in range(0, 13260, 340):\n",
    "\n",
    "    # print(i,i+340)\n",
    "    pred_X_Y = np.vstack((pred_x_data[i:i+340], pred_y_data[i:i+340].T))\n",
    "    gt_X_Y = np.vstack((gt_x_data[i:i+340], gt_y_data[i:i+340].T))\n",
    "    mouse_X_Y = np.vstack((mouse_x_data[i:i+340], mouse_y_data[i:i+340].T))\n",
    "    Pred_X = GenerateImages(pred_X_Y, 'predict_spatial_task_'+str(i)+'.png')\n",
    "    True_X = GenerateImages(gt_X_Y, 'true_spatial_task_'+str(i)+'.png')\n",
    "    Mouse_X = GenerateImages(mouse_X_Y, 'mouse_spatial_task_'+str(i)+'.png')\n",
    "    k = k + 1\n",
    "    print(k)\n",
    "print(k, 'spatial images generated')"
   ]
  },
  {
   "cell_type": "code",
   "execution_count": 8,
   "metadata": {
    "colab": {},
    "colab_type": "code",
    "id": "NwUi_gSi20Hk"
   },
   "outputs": [],
   "source": [
    "#################### GENERATING HEATMAP: SPATIAL ###########################\n",
    "def GaussianMask(sizex, sizey, sigma, center=None, fix=1):\n",
    "    \"\"\"\n",
    "    This function performs gaussian convolution/masking\n",
    "    Parameters:\n",
    "        sizex  : mask width\n",
    "        sizey  : mask height\n",
    "        sigma  : gaussian standard deviation\n",
    "        center : gaussian mean\n",
    "        fix    : gaussian max\n",
    "    returns:\n",
    "        gaussian mask\n",
    "    \"\"\"\n",
    "\n",
    "    x = np.arange(0, sizex, 1, float)\n",
    "    y = np.arange(0, sizey, 1, float)\n",
    "    x, y = np.meshgrid(x, y)\n",
    "\n",
    "    if center is None:\n",
    "        x0 = sizex // 2\n",
    "        y0 = sizey // 2\n",
    "\n",
    "    else:\n",
    "        if np.isnan(center[0]) == False and np.isnan(center[1]) == False:\n",
    "            x0 = center[0]\n",
    "            y0 = center[1]\n",
    "\n",
    "        else:\n",
    "            return np.zeros((sizey, sizex))\n",
    "\n",
    "    return fix * np.exp(-4 * np.log(2) * ((x - x0) ** 2 + (y - y0) ** 2) / sigma ** 2)\n",
    "\n",
    "\n",
    "def Fixpos2Densemap(fix_arr, width, height): #, imgfile, alpha=0.5, threshold=10):\n",
    "    \"\"\"\n",
    "    This function creates heatmap/attention map\n",
    "    Parameters:\n",
    "        fix_arr   : fixation array number of subjects x 3(x,y,fixation)\n",
    "        width     : output image width\n",
    "        height    : output image height\n",
    "        imgfile   : image file (optional)\n",
    "        alpha     : marge rate imgfile and heatmap (optional)\n",
    "        threshold : heatmap threshold(0~255)\n",
    "    returns:\n",
    "        heatmap\n",
    "    \"\"\"\n",
    "    W = width\n",
    "    H = height\n",
    "    heatmap = np.zeros((H, W), np.float32)\n",
    "    for n_subject in tqdm(range(fix_arr.shape[0])):\n",
    "        heatmap += GaussianMask(W, H, 64, (fix_arr[n_subject, 0], fix_arr[n_subject, 1]), fix_arr[n_subject, 2])\n",
    "\n",
    "    # Normalization to have values between 0-1\n",
    "    \n",
    "    heatmap = heatmap / np.amax(heatmap)\n",
    "    heatmap = heatmap * 255\n",
    "    heatmap = heatmap.astype(\"uint8\")\n",
    "    # heatmap = cv2.applyColorMap(heatmap, cv2.COLORMAP_JET)\n",
    "    return heatmap\n",
    "\n",
    "    if imgfile.any():\n",
    "    # Resize heatmap to imgfile shape \n",
    "        h, w, _ = imgfile.shape\n",
    "        heatmap = cv2.resize(heatmap, (w, h))\n",
    "        heatmap_color = cv2.applyColorMap(heatmap, cv2.COLORMAP_JET)\n",
    "      \n",
    "    # Create mask\n",
    "        mask = np.where(heatmap<=threshold, 1, 0)\n",
    "        mask = np.reshape(mask, (h, w, 1))\n",
    "        mask = np.repeat(mask, 3, axis=2)\n",
    "      \n",
    "    # Marge images\n",
    "        marge = imgfile*mask + heatmap_color*(1-mask)\n",
    "        marge = marge.astype(\"uint8\")\n",
    "        marge = cv2.addWeighted(imgfile, 1-alpha, marge,alpha,0)\n",
    "        print('Im with screenshot and color')\n",
    "\n",
    "        return marge, mask, heatmap_color\n",
    "\n",
    "    else:\n",
    "        heatmap = cv2.applyColorMap(heatmap, cv2.COLORMAP_JET)\n",
    "        return heatmap"
   ]
  },
  {
   "cell_type": "code",
   "execution_count": 9,
   "metadata": {
    "colab": {},
    "colab_type": "code",
    "id": "UfaM5oLIqjEV"
   },
   "outputs": [],
   "source": [
    "# imdir for reading input and outdir for storing output heatmap\n",
    "\n",
    "\n"
   ]
  },
  {
   "cell_type": "code",
   "execution_count": 10,
   "metadata": {},
   "outputs": [],
   "source": [
    "##### Generate heatmaps for prediction data ################\n",
    "p_imdir = '/home/kkjk/LSTM/Images_to_Evaluate/Spatial_Images/sp_prediction/'\n",
    "\n",
    "p_outdir =  '/home/kkjk/LSTM/Images_to_Evaluate/Spatial_heatmaps/sp_predict_heatmaps/'"
   ]
  },
  {
   "cell_type": "code",
   "execution_count": 12,
   "metadata": {
    "colab": {
     "base_uri": "https://localhost:8080/",
     "height": 238
    },
    "colab_type": "code",
    "id": "l97pRkaiqjUF",
    "outputId": "00d0ac4a-2d52-4e59-beb3-839141f46583"
   },
   "outputs": [
    {
     "name": "stderr",
     "output_type": "stream",
     "text": [
      "  0%|          | 1/326 [00:00<00:54,  5.96it/s]"
     ]
    },
    {
     "name": "stdout",
     "output_type": "stream",
     "text": [
      "prediction: /home/kkjk/LSTM/Images_to_Evaluate/Spatial_Images/sp_prediction/predict_spatial_task_0.png\n"
     ]
    },
    {
     "name": "stderr",
     "output_type": "stream",
     "text": [
      "100%|██████████| 326/326 [00:42<00:00,  7.61it/s]"
     ]
    },
    {
     "name": "stdout",
     "output_type": "stream",
     "text": [
      "output /home/kkjk/LSTM/Images_to_Evaluate/Spatial_heatmaps/sp_predict_heatmaps/predict_spatial_heatmap_0.png\n"
     ]
    },
    {
     "name": "stderr",
     "output_type": "stream",
     "text": [
      "\n"
     ]
    }
   ],
   "source": [
    "for i in range(0,13260,340):\n",
    "\n",
    "    pfile = 'predict_spatial_task_'+str(i)+'.png'\n",
    "  \n",
    "    \n",
    "    ppath = os.path.join(p_imdir, pfile)\n",
    "    print('prediction:',ppath)\n",
    "      \n",
    "    img = cv2.imread(ppath, cv2.IMREAD_GRAYSCALE)\n",
    "    result = np.where(img == 255)\n",
    "#     print('result',result)\n",
    "    # y = np.array(result[0])[::-1]\n",
    "    y = np.array(result[0])\n",
    "    x = np.array(result[1])\n",
    "    z = np.ones(x.shape)\n",
    "    fix_arr = np.column_stack([x, y, z])\n",
    "    H, W = img.shape \n",
    "    heatmap = Fixpos2Densemap(fix_arr, W, H)#, 0.7, 5)\n",
    "    print('output', (os.path.join(p_outdir, 'predict_spatial_heatmap_'+str(i)+'.png')))\n",
    "    cv2.imwrite(os.path.join(p_outdir,'predict_spatial_heatmap_'+str(i)+'.png'), heatmap)\n",
    "  "
   ]
  },
  {
   "cell_type": "code",
   "execution_count": 20,
   "metadata": {},
   "outputs": [],
   "source": [
    "####### Generate heatmaps for ground truth data ######\n",
    "\n",
    "gt_imdir = '/home/kkjk/LSTM/Images_to_Evaluate/Spatial_Images/sp_GT/'\n",
    "gt_outdir = '/home/kkjk/LSTM/Images_to_Evaluate/Spatial_heatmaps/sp_GT_heatmaps/'"
   ]
  },
  {
   "cell_type": "code",
   "execution_count": 24,
   "metadata": {},
   "outputs": [
    {
     "name": "stderr",
     "output_type": "stream",
     "text": [
      "  0%|          | 1/339 [00:00<00:51,  6.60it/s]"
     ]
    },
    {
     "name": "stdout",
     "output_type": "stream",
     "text": [
      "ground_truth: /home/kkjk/LSTM/Images_to_Evaluate/Spatial_Images/sp_GT/true_spatial_task_0.png\n"
     ]
    },
    {
     "name": "stderr",
     "output_type": "stream",
     "text": [
      "100%|██████████| 339/339 [00:44<00:00,  7.63it/s]"
     ]
    },
    {
     "name": "stdout",
     "output_type": "stream",
     "text": [
      "output /home/kkjk/LSTM/Images_to_Evaluate/Spatial_heatmaps/sp_GT_heatmaps/true_spatial_heatmap_0.png\n"
     ]
    },
    {
     "name": "stderr",
     "output_type": "stream",
     "text": [
      "\n"
     ]
    }
   ],
   "source": [
    "for i in range(0,13260,340):\n",
    "\n",
    "  \n",
    "    gtfile = 'true_spatial_task_'+str(i)+'.png'\n",
    "     \n",
    "    gtpath = os.path.join(gt_imdir, gtfile)\n",
    "    print('ground_truth:',gtpath)\n",
    "    \n",
    "\n",
    "    img = cv2.imread(gtpath, cv2.IMREAD_GRAYSCALE)\n",
    "    result = np.where(img == 255)\n",
    "#     print('result',result)\n",
    "    # y = np.array(result[0])[::-1]\n",
    "    y = np.array(result[0])\n",
    "    x = np.array(result[1])\n",
    "    z = np.ones(x.shape)\n",
    "    fix_arr = np.column_stack([x, y, z])\n",
    "    H, W = img.shape \n",
    "    heatmap = Fixpos2Densemap(fix_arr, W, H)#, 0.7, 5)\n",
    "    print('output', (os.path.join(gt_outdir, 'true_spatial_heatmap_'+str(i)+'.png')))\n",
    "    cv2.imwrite(os.path.join(gt_outdir,'true_spatial_heatmap_'+str(i)+'.png'), heatmap)"
   ]
  },
  {
   "cell_type": "code",
   "execution_count": 28,
   "metadata": {},
   "outputs": [],
   "source": [
    "############### Generate heatmap for mouse data ###########\n",
    "\n",
    "m_imdir = '/home/kkjk/LSTM/Images_to_Evaluate/Spatial_Images/sp_Mouse/'\n",
    "m_outdir = '/home/kkjk/LSTM/Images_to_Evaluate/Spatial_heatmaps/sp_Mouse_heatmaps/'\n"
   ]
  },
  {
   "cell_type": "code",
   "execution_count": 31,
   "metadata": {},
   "outputs": [
    {
     "name": "stderr",
     "output_type": "stream",
     "text": [
      "\n",
      "\n",
      "  0%|          | 0/145 [00:00<?, ?it/s]\u001b[A\u001b[A\n",
      "\n",
      "  1%|          | 1/145 [00:00<00:22,  6.32it/s]\u001b[A\u001b[A"
     ]
    },
    {
     "name": "stdout",
     "output_type": "stream",
     "text": [
      "mouse: /home/kkjk/LSTM/Images_to_Evaluate/Spatial_Images/sp_Mouse/mouse_spatial_task_0.png\n"
     ]
    },
    {
     "name": "stderr",
     "output_type": "stream",
     "text": [
      "\n",
      "\n",
      "  1%|▏         | 2/145 [00:00<00:21,  6.60it/s]\u001b[A\u001b[A\n",
      "\n",
      "  2%|▏         | 3/145 [00:00<00:20,  6.80it/s]\u001b[A\u001b[A\n",
      "\n",
      "  3%|▎         | 4/145 [00:00<00:20,  7.02it/s]\u001b[A\u001b[A\n",
      "\n",
      "  3%|▎         | 5/145 [00:00<00:19,  7.19it/s]\u001b[A\u001b[A\n",
      "\n",
      "  4%|▍         | 6/145 [00:00<00:19,  7.25it/s]\u001b[A\u001b[A\n",
      "\n",
      "  5%|▍         | 7/145 [00:00<00:18,  7.35it/s]\u001b[A\u001b[A\n",
      "\n",
      "  6%|▌         | 8/145 [00:01<00:18,  7.37it/s]\u001b[A\u001b[A\n",
      "\n",
      "  6%|▌         | 9/145 [00:01<00:18,  7.39it/s]\u001b[A\u001b[A\n",
      "\n",
      "  7%|▋         | 10/145 [00:01<00:18,  7.32it/s]\u001b[A\u001b[A\n",
      "\n",
      "  8%|▊         | 11/145 [00:01<00:18,  7.32it/s]\u001b[A\u001b[A\n",
      "\n",
      "  8%|▊         | 12/145 [00:01<00:18,  7.38it/s]\u001b[A\u001b[A\n",
      "\n",
      "  9%|▉         | 13/145 [00:01<00:17,  7.44it/s]\u001b[A\u001b[A\n",
      "\n",
      " 10%|▉         | 14/145 [00:01<00:17,  7.49it/s]\u001b[A\u001b[A\n",
      "\n",
      " 10%|█         | 15/145 [00:02<00:17,  7.48it/s]\u001b[A\u001b[A\n",
      "\n",
      " 11%|█         | 16/145 [00:02<00:17,  7.48it/s]\u001b[A\u001b[A\n",
      "\n",
      " 12%|█▏        | 17/145 [00:02<00:17,  7.49it/s]\u001b[A\u001b[A\n",
      "\n",
      " 12%|█▏        | 18/145 [00:02<00:16,  7.50it/s]\u001b[A\u001b[A\n",
      "\n",
      " 13%|█▎        | 19/145 [00:02<00:16,  7.50it/s]\u001b[A\u001b[A\n",
      "\n",
      " 14%|█▍        | 20/145 [00:02<00:16,  7.42it/s]\u001b[A\u001b[A\n",
      "\n",
      " 14%|█▍        | 21/145 [00:02<00:16,  7.43it/s]\u001b[A\u001b[A\n",
      "\n",
      " 15%|█▌        | 22/145 [00:02<00:16,  7.44it/s]\u001b[A\u001b[A\n",
      "\n",
      " 16%|█▌        | 23/145 [00:03<00:16,  7.45it/s]\u001b[A\u001b[A\n",
      "\n",
      " 17%|█▋        | 24/145 [00:03<00:16,  7.44it/s]\u001b[A\u001b[A\n",
      "\n",
      " 17%|█▋        | 25/145 [00:03<00:16,  7.44it/s]\u001b[A\u001b[A\n",
      "\n",
      " 18%|█▊        | 26/145 [00:03<00:15,  7.47it/s]\u001b[A\u001b[A\n",
      "\n",
      " 19%|█▊        | 27/145 [00:03<00:15,  7.49it/s]\u001b[A\u001b[A\n",
      "\n",
      " 19%|█▉        | 28/145 [00:03<00:15,  7.48it/s]\u001b[A\u001b[A\n",
      "\n",
      " 20%|██        | 29/145 [00:03<00:15,  7.47it/s]\u001b[A\u001b[A\n",
      "\n",
      " 21%|██        | 30/145 [00:04<00:15,  7.45it/s]\u001b[A\u001b[A\n",
      "\n",
      " 21%|██▏       | 31/145 [00:04<00:15,  7.45it/s]\u001b[A\u001b[A\n",
      "\n",
      " 22%|██▏       | 32/145 [00:04<00:15,  7.46it/s]\u001b[A\u001b[A\n",
      "\n",
      " 23%|██▎       | 33/145 [00:04<00:14,  7.50it/s]\u001b[A\u001b[A\n",
      "\n",
      " 23%|██▎       | 34/145 [00:04<00:14,  7.49it/s]\u001b[A\u001b[A\n",
      "\n",
      " 24%|██▍       | 35/145 [00:04<00:14,  7.47it/s]\u001b[A\u001b[A\n",
      "\n",
      " 25%|██▍       | 36/145 [00:04<00:14,  7.46it/s]\u001b[A\u001b[A\n",
      "\n",
      " 26%|██▌       | 37/145 [00:04<00:14,  7.44it/s]\u001b[A\u001b[A\n",
      "\n",
      " 26%|██▌       | 38/145 [00:05<00:14,  7.43it/s]\u001b[A\u001b[A\n",
      "\n",
      " 27%|██▋       | 39/145 [00:05<00:14,  7.43it/s]\u001b[A\u001b[A\n",
      "\n",
      " 28%|██▊       | 40/145 [00:05<00:14,  7.42it/s]\u001b[A\u001b[A\n",
      "\n",
      " 28%|██▊       | 41/145 [00:05<00:14,  7.42it/s]\u001b[A\u001b[A\n",
      "\n",
      " 29%|██▉       | 42/145 [00:05<00:13,  7.42it/s]\u001b[A\u001b[A\n",
      "\n",
      " 30%|██▉       | 43/145 [00:05<00:13,  7.43it/s]\u001b[A\u001b[A\n",
      "\n",
      " 30%|███       | 44/145 [00:05<00:13,  7.43it/s]\u001b[A\u001b[A\n",
      "\n",
      " 31%|███       | 45/145 [00:06<00:13,  7.43it/s]\u001b[A\u001b[A\n",
      "\n",
      " 32%|███▏      | 46/145 [00:06<00:13,  7.43it/s]\u001b[A\u001b[A\n",
      "\n",
      " 32%|███▏      | 47/145 [00:06<00:13,  7.42it/s]\u001b[A\u001b[A\n",
      "\n",
      " 33%|███▎      | 48/145 [00:06<00:13,  7.41it/s]\u001b[A\u001b[A\n",
      "\n",
      " 34%|███▍      | 49/145 [00:06<00:12,  7.44it/s]\u001b[A\u001b[A\n",
      "\n",
      " 34%|███▍      | 50/145 [00:06<00:12,  7.43it/s]\u001b[A\u001b[A\n",
      "\n",
      " 35%|███▌      | 51/145 [00:06<00:12,  7.43it/s]\u001b[A\u001b[A\n",
      "\n",
      " 36%|███▌      | 52/145 [00:07<00:12,  7.44it/s]\u001b[A\u001b[A\n",
      "\n",
      " 37%|███▋      | 53/145 [00:07<00:12,  7.42it/s]\u001b[A\u001b[A\n",
      "\n",
      " 37%|███▋      | 54/145 [00:07<00:12,  7.42it/s]\u001b[A\u001b[A\n",
      "\n",
      " 38%|███▊      | 55/145 [00:07<00:12,  7.43it/s]\u001b[A\u001b[A\n",
      "\n",
      " 39%|███▊      | 56/145 [00:07<00:11,  7.46it/s]\u001b[A\u001b[A\n",
      "\n",
      " 39%|███▉      | 57/145 [00:07<00:11,  7.47it/s]\u001b[A\u001b[A\n",
      "\n",
      " 40%|████      | 58/145 [00:07<00:11,  7.49it/s]\u001b[A\u001b[A\n",
      "\n",
      " 41%|████      | 59/145 [00:07<00:11,  7.45it/s]\u001b[A\u001b[A\n",
      "\n",
      " 41%|████▏     | 60/145 [00:08<00:11,  7.45it/s]\u001b[A\u001b[A\n",
      "\n",
      " 42%|████▏     | 61/145 [00:08<00:11,  7.45it/s]\u001b[A\u001b[A\n",
      "\n",
      " 43%|████▎     | 62/145 [00:08<00:11,  7.46it/s]\u001b[A\u001b[A\n",
      "\n",
      " 43%|████▎     | 63/145 [00:08<00:11,  7.44it/s]\u001b[A\u001b[A\n",
      "\n",
      " 44%|████▍     | 64/145 [00:08<00:10,  7.47it/s]\u001b[A\u001b[A\n",
      "\n",
      " 45%|████▍     | 65/145 [00:08<00:10,  7.44it/s]\u001b[A\u001b[A\n",
      "\n",
      " 46%|████▌     | 66/145 [00:08<00:10,  7.44it/s]\u001b[A\u001b[A\n",
      "\n",
      " 46%|████▌     | 67/145 [00:09<00:10,  7.43it/s]\u001b[A\u001b[A\n",
      "\n",
      " 47%|████▋     | 68/145 [00:09<00:10,  7.43it/s]\u001b[A\u001b[A\n",
      "\n",
      " 48%|████▊     | 69/145 [00:09<00:10,  7.43it/s]\u001b[A\u001b[A\n",
      "\n",
      " 48%|████▊     | 70/145 [00:09<00:10,  7.42it/s]\u001b[A\u001b[A\n",
      "\n",
      " 49%|████▉     | 71/145 [00:09<00:09,  7.42it/s]\u001b[A\u001b[A\n",
      "\n",
      " 50%|████▉     | 72/145 [00:09<00:09,  7.45it/s]\u001b[A\u001b[A\n",
      "\n",
      " 50%|█████     | 73/145 [00:09<00:09,  7.43it/s]\u001b[A\u001b[A\n",
      "\n",
      " 51%|█████     | 74/145 [00:09<00:09,  7.42it/s]\u001b[A\u001b[A\n",
      "\n",
      " 52%|█████▏    | 75/145 [00:10<00:09,  7.44it/s]\u001b[A\u001b[A\n",
      "\n",
      " 52%|█████▏    | 76/145 [00:10<00:09,  7.44it/s]\u001b[A\u001b[A\n",
      "\n",
      " 53%|█████▎    | 77/145 [00:10<00:09,  7.44it/s]\u001b[A\u001b[A\n",
      "\n",
      " 54%|█████▍    | 78/145 [00:10<00:09,  7.44it/s]\u001b[A\u001b[A\n",
      "\n",
      " 54%|█████▍    | 79/145 [00:10<00:08,  7.44it/s]\u001b[A\u001b[A\n",
      "\n",
      " 55%|█████▌    | 80/145 [00:10<00:08,  7.43it/s]\u001b[A\u001b[A\n",
      "\n",
      " 56%|█████▌    | 81/145 [00:10<00:08,  7.43it/s]\u001b[A\u001b[A\n",
      "\n",
      " 57%|█████▋    | 82/145 [00:11<00:08,  7.50it/s]\u001b[A\u001b[A\n",
      "\n",
      " 57%|█████▋    | 83/145 [00:11<00:08,  7.54it/s]\u001b[A\u001b[A\n",
      "\n",
      " 58%|█████▊    | 84/145 [00:11<00:08,  7.46it/s]\u001b[A\u001b[A\n",
      "\n",
      " 59%|█████▊    | 85/145 [00:11<00:08,  7.45it/s]\u001b[A\u001b[A\n",
      "\n",
      " 59%|█████▉    | 86/145 [00:11<00:07,  7.44it/s]\u001b[A\u001b[A\n",
      "\n",
      " 60%|██████    | 87/145 [00:11<00:07,  7.43it/s]\u001b[A\u001b[A\n",
      "\n",
      " 61%|██████    | 88/145 [00:11<00:07,  7.45it/s]\u001b[A\u001b[A\n",
      "\n",
      " 61%|██████▏   | 89/145 [00:11<00:07,  7.46it/s]\u001b[A\u001b[A\n",
      "\n",
      " 62%|██████▏   | 90/145 [00:12<00:07,  7.47it/s]\u001b[A\u001b[A\n",
      "\n",
      " 63%|██████▎   | 91/145 [00:12<00:07,  7.48it/s]\u001b[A\u001b[A\n",
      "\n",
      " 63%|██████▎   | 92/145 [00:12<00:07,  7.47it/s]\u001b[A\u001b[A\n",
      "\n",
      " 64%|██████▍   | 93/145 [00:12<00:06,  7.45it/s]\u001b[A\u001b[A\n",
      "\n",
      " 65%|██████▍   | 94/145 [00:12<00:06,  7.44it/s]\u001b[A\u001b[A\n",
      "\n",
      " 66%|██████▌   | 95/145 [00:12<00:06,  7.44it/s]\u001b[A\u001b[A\n",
      "\n",
      " 66%|██████▌   | 96/145 [00:12<00:06,  7.44it/s]\u001b[A\u001b[A\n",
      "\n",
      " 67%|██████▋   | 97/145 [00:13<00:06,  7.47it/s]\u001b[A\u001b[A\n",
      "\n",
      " 68%|██████▊   | 98/145 [00:13<00:06,  7.47it/s]\u001b[A\u001b[A\n",
      "\n",
      " 68%|██████▊   | 99/145 [00:13<00:06,  7.49it/s]\u001b[A\u001b[A\n",
      "\n",
      " 69%|██████▉   | 100/145 [00:13<00:06,  7.49it/s]\u001b[A\u001b[A\n",
      "\n",
      " 70%|██████▉   | 101/145 [00:13<00:05,  7.48it/s]\u001b[A\u001b[A\n",
      "\n",
      " 70%|███████   | 102/145 [00:13<00:05,  7.46it/s]\u001b[A\u001b[A\n",
      "\n",
      " 71%|███████   | 103/145 [00:13<00:05,  7.48it/s]\u001b[A\u001b[A\n",
      "\n",
      " 72%|███████▏  | 104/145 [00:13<00:05,  7.48it/s]\u001b[A\u001b[A\n",
      "\n",
      " 72%|███████▏  | 105/145 [00:14<00:05,  7.47it/s]\u001b[A\u001b[A\n",
      "\n",
      " 73%|███████▎  | 106/145 [00:14<00:05,  7.48it/s]\u001b[A\u001b[A\n",
      "\n",
      " 74%|███████▍  | 107/145 [00:14<00:05,  7.49it/s]\u001b[A\u001b[A\n",
      "\n",
      " 74%|███████▍  | 108/145 [00:14<00:04,  7.51it/s]\u001b[A\u001b[A\n",
      "\n",
      " 75%|███████▌  | 109/145 [00:14<00:04,  7.47it/s]\u001b[A\u001b[A\n",
      "\n",
      " 76%|███████▌  | 110/145 [00:14<00:04,  7.49it/s]\u001b[A\u001b[A\n",
      "\n",
      " 77%|███████▋  | 111/145 [00:14<00:04,  7.48it/s]\u001b[A\u001b[A\n",
      "\n",
      " 77%|███████▋  | 112/145 [00:15<00:04,  7.46it/s]\u001b[A\u001b[A\n",
      "\n",
      " 78%|███████▊  | 113/145 [00:15<00:04,  7.45it/s]\u001b[A\u001b[A\n",
      "\n",
      " 79%|███████▊  | 114/145 [00:15<00:04,  7.47it/s]\u001b[A\u001b[A\n",
      "\n",
      " 79%|███████▉  | 115/145 [00:15<00:03,  7.51it/s]\u001b[A\u001b[A\n",
      "\n",
      " 80%|████████  | 116/145 [00:15<00:03,  7.47it/s]\u001b[A\u001b[A\n",
      "\n",
      " 81%|████████  | 117/145 [00:15<00:03,  7.51it/s]\u001b[A\u001b[A\n",
      "\n",
      " 81%|████████▏ | 118/145 [00:15<00:03,  7.53it/s]\u001b[A\u001b[A\n",
      "\n",
      " 82%|████████▏ | 119/145 [00:15<00:03,  7.49it/s]\u001b[A\u001b[A\n",
      "\n",
      " 83%|████████▎ | 120/145 [00:16<00:03,  7.49it/s]\u001b[A\u001b[A\n",
      "\n",
      " 83%|████████▎ | 121/145 [00:16<00:03,  7.54it/s]\u001b[A\u001b[A\n",
      "\n",
      " 84%|████████▍ | 122/145 [00:16<00:03,  7.57it/s]\u001b[A\u001b[A\n",
      "\n",
      " 85%|████████▍ | 123/145 [00:16<00:02,  7.56it/s]\u001b[A\u001b[A\n",
      "\n",
      " 86%|████████▌ | 124/145 [00:16<00:02,  7.53it/s]\u001b[A\u001b[A\n",
      "\n",
      " 86%|████████▌ | 125/145 [00:16<00:02,  7.49it/s]\u001b[A\u001b[A\n",
      "\n",
      " 87%|████████▋ | 126/145 [00:16<00:02,  7.52it/s]\u001b[A\u001b[A\n",
      "\n",
      " 88%|████████▊ | 127/145 [00:17<00:02,  7.46it/s]\u001b[A\u001b[A\n",
      "\n",
      " 88%|████████▊ | 128/145 [00:17<00:02,  7.46it/s]\u001b[A\u001b[A\n",
      "\n",
      " 89%|████████▉ | 129/145 [00:17<00:02,  7.46it/s]\u001b[A\u001b[A\n",
      "\n",
      " 90%|████████▉ | 130/145 [00:17<00:02,  7.46it/s]\u001b[A\u001b[A\n",
      "\n",
      " 90%|█████████ | 131/145 [00:17<00:01,  7.50it/s]\u001b[A\u001b[A\n",
      "\n",
      " 91%|█████████ | 132/145 [00:17<00:01,  7.52it/s]\u001b[A\u001b[A\n",
      "\n",
      " 92%|█████████▏| 133/145 [00:17<00:01,  7.55it/s]\u001b[A\u001b[A\n",
      "\n",
      " 92%|█████████▏| 134/145 [00:17<00:01,  7.57it/s]\u001b[A\u001b[A\n",
      "\n",
      " 93%|█████████▎| 135/145 [00:18<00:01,  7.60it/s]\u001b[A\u001b[A\n",
      "\n",
      " 94%|█████████▍| 136/145 [00:18<00:01,  7.60it/s]\u001b[A\u001b[A\n",
      "\n",
      " 94%|█████████▍| 137/145 [00:18<00:01,  7.60it/s]\u001b[A\u001b[A\n",
      "\n",
      " 95%|█████████▌| 138/145 [00:18<00:00,  7.60it/s]\u001b[A\u001b[A\n",
      "\n",
      " 96%|█████████▌| 139/145 [00:18<00:00,  7.60it/s]\u001b[A\u001b[A\n",
      "\n",
      " 97%|█████████▋| 140/145 [00:18<00:00,  7.57it/s]\u001b[A\u001b[A\n",
      "\n",
      " 97%|█████████▋| 141/145 [00:18<00:00,  7.59it/s]\u001b[A\u001b[A\n",
      "\n",
      " 98%|█████████▊| 142/145 [00:19<00:00,  7.53it/s]\u001b[A\u001b[A\n",
      "\n",
      " 99%|█████████▊| 143/145 [00:19<00:00,  7.52it/s]\u001b[A\u001b[A\n",
      "\n",
      " 99%|█████████▉| 144/145 [00:19<00:00,  7.55it/s]\u001b[A\u001b[A\n",
      "\n",
      "100%|██████████| 145/145 [00:19<00:00,  7.46it/s]\u001b[A\u001b[A"
     ]
    },
    {
     "name": "stdout",
     "output_type": "stream",
     "text": [
      "output /home/kkjk/LSTM/Images_to_Evaluate/Spatial_heatmaps/sp_Mouse_heatmaps/mouse_spatial_task_0.png\n"
     ]
    },
    {
     "name": "stderr",
     "output_type": "stream",
     "text": [
      "\n"
     ]
    }
   ],
   "source": [
    "for i in range(0,13260,340):\n",
    "\n",
    "    mfile = 'mouse_spatial_task_'+str(i)+'.png'\n",
    "   \n",
    "    mopath = os.path.join(m_imdir, mfile)\n",
    "    print('mouse:',mopath)\n",
    "\n",
    "    img = cv2.imread(mopath, cv2.IMREAD_GRAYSCALE)\n",
    "    result = np.where(img == 255)\n",
    "    # y = np.array(result[0])[::-1]\n",
    "    y = np.array(result[0])\n",
    "    x = np.array(result[1])\n",
    "    z = np.ones(x.shape)\n",
    "    fix_arr = np.column_stack([x, y, z])\n",
    "    H, W = img.shape \n",
    "    heatmap = Fixpos2Densemap(fix_arr, W, H)#, 0.7, 5)\n",
    "    print('output', (os.path.join(m_outdir, mfile)))\n",
    "    cv2.imwrite(os.path.join(m_outdir,mfile), heatmap)"
   ]
  },
  {
   "cell_type": "code",
   "execution_count": 32,
   "metadata": {},
   "outputs": [],
   "source": [
    "### EOF ###"
   ]
  }
 ],
 "metadata": {
  "accelerator": "GPU",
  "colab": {
   "name": "Copy of Utility_file.ipynb",
   "provenance": []
  },
  "kernelspec": {
   "display_name": "Python 3",
   "language": "python",
   "name": "python3"
  },
  "language_info": {
   "codemirror_mode": {
    "name": "ipython",
    "version": 3
   },
   "file_extension": ".py",
   "mimetype": "text/x-python",
   "name": "python",
   "nbconvert_exporter": "python",
   "pygments_lexer": "ipython3",
   "version": "3.6.8"
  }
 },
 "nbformat": 4,
 "nbformat_minor": 1
}

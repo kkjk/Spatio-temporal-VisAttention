{
 "cells": [
  {
   "cell_type": "code",
   "execution_count": 2,
   "metadata": {
    "colab": {},
    "colab_type": "code",
    "id": "cqztSSydx8C7"
   },
   "outputs": [],
   "source": [
    "############ Generate Images ###################\n",
    "import math\n",
    "import numpy as np\n",
    "import cv2\n",
    "import cv2, os\n",
    "import matplotlib.pyplot as plt\n",
    "from tqdm import tqdm\n",
    "import fnmatch"
   ]
  },
  {
   "cell_type": "code",
   "execution_count": 3,
   "metadata": {
    "colab": {},
    "colab_type": "code",
    "id": "njDh8CwRAdHp"
   },
   "outputs": [],
   "source": [
    "######## TEMPORAL: read prediciton, ground truth and  mouse (x,y) from CSV ################\n",
    "\n",
    "pred_x_data = np.genfromtxt('/home/kkjk/LSTM/Co-ordinates_mouse_cursor_GT_prediction/prediction_XX_26180.csv').astype(np.int64)\n",
    "pred_y_data = np.genfromtxt('/home/kkjk/LSTM/Co-ordinates_mouse_cursor_GT_prediction/prediction_YY_26180.csv').astype(np.int64)\n",
    "\n",
    "gt_x_data = np.genfromtxt('/home/kkjk/LSTM/Co-ordinates_mouse_cursor_GT_prediction/GT_Fix_XX_26180.csv').astype(np.int64)\n",
    "gt_y_data = np.genfromtxt('/home/kkjk/LSTM/Co-ordinates_mouse_cursor_GT_prediction/GT_Fix_YY_26180.csv').astype(np.int64)\n",
    "\n",
    "mouse_x_data = np.genfromtxt('/home/kkjk/LSTM/Co-ordinates_mouse_cursor_GT_prediction/mouse_XX_26180.csv').astype(np.int64)\n",
    "mouse_y_data = np.genfromtxt('/home/kkjk/LSTM/Co-ordinates_mouse_cursor_GT_prediction/mouse_YY_26180.csv').astype(np.int64)\n",
    "\n",
    "\n"
   ]
  },
  {
   "cell_type": "code",
   "execution_count": 4,
   "metadata": {
    "colab": {},
    "colab_type": "code",
    "id": "kbCtyZkNAczN"
   },
   "outputs": [],
   "source": [
    "################## TEMPORAL ############################## \n",
    "\n",
    "def GenerateImages(Input, Imagename):\n",
    "    \"\"\" \n",
    "    This function generates binary map/image of size 1200*1920 out of (x,y)co-ordinates\n",
    "    \n",
    "    Parameters:\n",
    "        Input(stacked array of (x,y)): join (x,y) of prediction or ground truth or mouse\n",
    "        Imagename(string): Name of the image to be created and saved\n",
    "    \n",
    "    Returns:\n",
    "        path of created image. changes for spatial and temporal data. \n",
    "    \"\"\"\n",
    "    Op_Image = np.zeros((1200, 1920), dtype=np.int64)\n",
    "\n",
    "    for x, y in zip(Input[0], Input[1]):\n",
    "        # print('x,y', x, y)\n",
    "        Op_Image[y][x] = 255\n",
    "        op_map = np.float32(Op_Image)\n",
    "    NewImage = '/home/kkjk/LSTM/Images_to_Evaluate/Temporal_Images/'+Imagename\n",
    "    cv2.imwrite(NewImage, op_map)\n",
    "    return NewImage\n"
   ]
  },
  {
   "cell_type": "code",
   "execution_count": 5,
   "metadata": {
    "colab": {},
    "colab_type": "code",
    "id": "0ORTh_GRAdU0"
   },
   "outputs": [
    {
     "name": "stdout",
     "output_type": "stream",
     "text": [
      "2\n",
      "2 individual temporal images generated\n"
     ]
    }
   ],
   "source": [
    "## 2 test users with total of 38 interfaces, so 38*340 = 12920 (x,y) points\n",
    "## Temporal attention prediction evaluates one point per user and per task, creating 12920 images and heatmaps\n",
    "\n",
    "k = 1\n",
    "\n",
    "for i in range(13260,13261,1):\n",
    "\n",
    "    # print(i,i+340)\n",
    "    pred_X_Y = np.vstack((pred_x_data[i], pred_y_data[i].T))\n",
    "    gt_X_Y = np.vstack((gt_x_data[i], gt_y_data[i].T))\n",
    "    mouse_X_Y = np.vstack((mouse_x_data[i], mouse_y_data[i].T))\n",
    "    Pred_X = GenerateImages(pred_X_Y, 'predict_temporal_'+str(i)+'.png')\n",
    "    True_X = GenerateImages(gt_X_Y, 'true_temporal_'+str(i)+'.png')\n",
    "    Mouse_X = GenerateImages(mouse_X_Y, 'mouse_temporal_'+str(i)+'.png')\n",
    "    k = k + 1\n",
    "    print(k)\n",
    "print(k, 'individual temporal images generated')"
   ]
  },
  {
   "cell_type": "code",
   "execution_count": 6,
   "metadata": {
    "colab": {},
    "colab_type": "code",
    "id": "NwUi_gSi20Hk"
   },
   "outputs": [],
   "source": [
    "#################### GENERATING HEATMAP: SPATIAL ###########################\n",
    "def GaussianMask(sizex, sizey, sigma, center=None, fix=1):\n",
    "    \"\"\"\n",
    "    This function performs gaussian convolution/masking\n",
    "    Parameters:\n",
    "        sizex  : mask width\n",
    "        sizey  : mask height\n",
    "        sigma  : gaussian standard deviation\n",
    "        center : gaussian mean\n",
    "        fix    : gaussian max\n",
    "    returns:\n",
    "        gaussian mask\n",
    "    \"\"\"\n",
    "\n",
    "    x = np.arange(0, sizex, 1, float)\n",
    "    y = np.arange(0, sizey, 1, float)\n",
    "    x, y = np.meshgrid(x, y)\n",
    "\n",
    "    if center is None:\n",
    "        x0 = sizex // 2\n",
    "        y0 = sizey // 2\n",
    "\n",
    "    else:\n",
    "        if np.isnan(center[0]) == False and np.isnan(center[1]) == False:\n",
    "            x0 = center[0]\n",
    "            y0 = center[1]\n",
    "\n",
    "        else:\n",
    "            return np.zeros((sizey, sizex))\n",
    "\n",
    "    return fix * np.exp(-4 * np.log(2) * ((x - x0) ** 2 + (y - y0) ** 2) / sigma ** 2)\n",
    "\n",
    "\n",
    "def Fixpos2Densemap(fix_arr, width, height): #, imgfile, alpha=0.5, threshold=10):\n",
    "    \"\"\"\n",
    "    This function creates heatmap/attention map\n",
    "    Parameters:\n",
    "        fix_arr   : fixation array number of subjects x 3(x,y,fixation)\n",
    "        width     : output image width\n",
    "        height    : output image height\n",
    "        imgfile   : image file (optional)\n",
    "        alpha     : marge rate imgfile and heatmap (optional)\n",
    "        threshold : heatmap threshold(0~255)\n",
    "    returns:\n",
    "        heatmap\n",
    "    \"\"\"\n",
    "    W = width\n",
    "    H = height\n",
    "    heatmap = np.zeros((H, W), np.float32)\n",
    "    for n_subject in tqdm(range(fix_arr.shape[0])):\n",
    "        heatmap += GaussianMask(W, H, 64, (fix_arr[n_subject, 0], fix_arr[n_subject, 1]), fix_arr[n_subject, 2])\n",
    "\n",
    "    # Normalization to have values between 0-1\n",
    "    \n",
    "    heatmap = heatmap / np.amax(heatmap)\n",
    "    heatmap = heatmap * 255\n",
    "    heatmap = heatmap.astype(\"uint8\")\n",
    "    # heatmap = cv2.applyColorMap(heatmap, cv2.COLORMAP_JET)\n",
    "    return heatmap\n",
    "\n",
    "    if imgfile.any():\n",
    "    # Resize heatmap to imgfile shape \n",
    "        h, w, _ = imgfile.shape\n",
    "        heatmap = cv2.resize(heatmap, (w, h))\n",
    "        heatmap_color = cv2.applyColorMap(heatmap, cv2.COLORMAP_JET)\n",
    "      \n",
    "    # Create mask\n",
    "        mask = np.where(heatmap<=threshold, 1, 0)\n",
    "        mask = np.reshape(mask, (h, w, 1))\n",
    "        mask = np.repeat(mask, 3, axis=2)\n",
    "      \n",
    "    # Marge images\n",
    "        marge = imgfile*mask + heatmap_color*(1-mask)\n",
    "        marge = marge.astype(\"uint8\")\n",
    "        marge = cv2.addWeighted(imgfile, 1-alpha, marge,alpha,0)\n",
    "        print('Im with screenshot and color')\n",
    "\n",
    "        return marge, mask, heatmap_color\n",
    "\n",
    "    else:\n",
    "        heatmap = cv2.applyColorMap(heatmap, cv2.COLORMAP_JET)\n",
    "        return heatmap"
   ]
  },
  {
   "cell_type": "code",
   "execution_count": 9,
   "metadata": {
    "colab": {},
    "colab_type": "code",
    "id": "UfaM5oLIqjEV"
   },
   "outputs": [],
   "source": [
    "# imdir for reading input and outdir for storing output heatmap\n",
    "\n",
    "\n"
   ]
  },
  {
   "cell_type": "code",
   "execution_count": 8,
   "metadata": {},
   "outputs": [],
   "source": [
    "##### Generate heatmaps for prediction data ################\n",
    "p_imdir = '/home/kkjk/LSTM/Images_to_Evaluate/Temporal_Images/tem_prediction/'\n",
    "\n",
    "p_outdir =  '/home/kkjk/LSTM/Images_to_Evaluate/Temporal_heatmaps/tem_prediction_heatmaps/'"
   ]
  },
  {
   "cell_type": "code",
   "execution_count": 14,
   "metadata": {
    "colab": {
     "base_uri": "https://localhost:8080/",
     "height": 238
    },
    "colab_type": "code",
    "id": "l97pRkaiqjUF",
    "outputId": "00d0ac4a-2d52-4e59-beb3-839141f46583"
   },
   "outputs": [
    {
     "name": "stderr",
     "output_type": "stream",
     "text": [
      "100%|██████████| 1/1 [00:00<00:00,  6.12it/s]"
     ]
    },
    {
     "name": "stdout",
     "output_type": "stream",
     "text": [
      "prediction: /home/kkjk/LSTM/Images_to_Evaluate/Temporal_Images/tem_prediction/predict_temporal_14751.png\n",
      "output /home/kkjk/LSTM/Images_to_Evaluate/Temporal_heatmaps/tem_prediction_heatmaps/predict_temporal_heatmap_14751.png\n"
     ]
    },
    {
     "name": "stderr",
     "output_type": "stream",
     "text": [
      "\n"
     ]
    }
   ],
   "source": [
    "for i in range(13260,26180,1):\n",
    "\n",
    "    pfile = 'predict_temporal_'+str(i)+'.png'\n",
    "  \n",
    "    \n",
    "    ppath = os.path.join(p_imdir, pfile)\n",
    "    print('prediction:',ppath)\n",
    "      \n",
    "    img = cv2.imread(ppath, cv2.IMREAD_GRAYSCALE)\n",
    "    result = np.where(img == 255)\n",
    "#     print('result',result)\n",
    "    # y = np.array(result[0])[::-1]\n",
    "    y = np.array(result[0])\n",
    "    x = np.array(result[1])\n",
    "    z = np.ones(x.shape)\n",
    "    fix_arr = np.column_stack([x, y, z])\n",
    "    H, W = img.shape \n",
    "    heatmap = Fixpos2Densemap(fix_arr, W, H)#, 0.7, 5)\n",
    "    print('output', (os.path.join(p_outdir, 'predict_temporal_heatmap_'+str(i)+'.png')))\n",
    "    cv2.imwrite(os.path.join(p_outdir,'predict_temporal_heatmap_'+str(i)+'.png'), heatmap)\n",
    "  "
   ]
  },
  {
   "cell_type": "code",
   "execution_count": 11,
   "metadata": {},
   "outputs": [],
   "source": [
    "############### Generate heatmap for temporal mouse data ###########\n",
    "\n",
    "m_imdir = '/home/kkjk/LSTM/Images_to_Evaluate/Temporal_Images/tem_mouse/'\n",
    "m_outdir = '/home/kkjk/LSTM/Images_to_Evaluate/Temporal_heatmaps/tem_mouse_heatmaps/'\n"
   ]
  },
  {
   "cell_type": "code",
   "execution_count": 12,
   "metadata": {},
   "outputs": [
    {
     "name": "stderr",
     "output_type": "stream",
     "text": [
      "100%|██████████| 1/1 [00:00<00:00,  6.04it/s]"
     ]
    },
    {
     "name": "stdout",
     "output_type": "stream",
     "text": [
      "mouse: /home/kkjk/LSTM/Images_to_Evaluate/Temporal_Images/tem_mouse/mouse_temporal_13260.png\n",
      "output /home/kkjk/LSTM/Images_to_Evaluate/Temporal_heatmaps/tem_mouse_heatmaps/mouse_temporal_13260.png\n"
     ]
    },
    {
     "name": "stderr",
     "output_type": "stream",
     "text": [
      "\n"
     ]
    }
   ],
   "source": [
    "for i in range(13260,26180,340):\n",
    "\n",
    "    mfile = 'mouse_temporal_'+str(i)+'.png'\n",
    "   \n",
    "    mopath = os.path.join(m_imdir, mfile)\n",
    "    print('mouse:',mopath)\n",
    "\n",
    "    img = cv2.imread(mopath, cv2.IMREAD_GRAYSCALE)\n",
    "    result = np.where(img == 255)\n",
    "    # y = np.array(result[0])[::-1]\n",
    "    y = np.array(result[0])\n",
    "    x = np.array(result[1])\n",
    "    z = np.ones(x.shape)\n",
    "    fix_arr = np.column_stack([x, y, z])\n",
    "    H, W = img.shape \n",
    "    heatmap = Fixpos2Densemap(fix_arr, W, H)#, 0.7, 5)\n",
    "    print('output', (os.path.join(m_outdir, mouse_temporal_heatmap_'+str(i)+'.png')))\n",
    "    cv2.imwrite(os.path.join(m_outdir,mouse_temporal_heatmap_'+str(i)+'.png'), heatmap)"
   ]
  },
  {
   "cell_type": "code",
   "execution_count": 32,
   "metadata": {},
   "outputs": [],
   "source": [
    "### EOF ###"
   ]
  }
 ],
 "metadata": {
  "accelerator": "GPU",
  "colab": {
   "name": "Copy of Utility_file.ipynb",
   "provenance": []
  },
  "kernelspec": {
   "display_name": "Python 3",
   "language": "python",
   "name": "python3"
  },
  "language_info": {
   "codemirror_mode": {
    "name": "ipython",
    "version": 3
   },
   "file_extension": ".py",
   "mimetype": "text/x-python",
   "name": "python",
   "nbconvert_exporter": "python",
   "pygments_lexer": "ipython3",
   "version": "3.6.8"
  }
 },
 "nbformat": 4,
 "nbformat_minor": 1
}
